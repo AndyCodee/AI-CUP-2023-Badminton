{
 "cells": [
  {
   "cell_type": "code",
   "execution_count": 12,
   "id": "95d7b673",
   "metadata": {},
   "outputs": [
    {
     "name": "stdout",
     "output_type": "stream",
     "text": [
      "Create folder: C:/Users/88690/Desktop/Yolov8/badminton video dataset/Change to frame/all images/00100/\n",
      "122\n",
      "process: 122/122"
     ]
    }
   ],
   "source": [
    "import os\n",
    "import cv2\n",
    "import glob\n",
    "import shutil\n",
    "\n",
    "video_path = \"data/part1/train/00001/00001.mp4\"\n",
    "output_folder = \"YOUR_PATH/\"\n",
    "\n",
    "\n",
    "if os.path.isdir(output_folder):\n",
    "    print(\"Delete old result folder: {}\".format(output_folder))\n",
    "    shutil.rmtree(output_folder)\n",
    "os.makedirs(output_folder)\n",
    "print(\"Create folder: {}\".format(output_folder))\n",
    "\n",
    "\n",
    "\n",
    "vc = cv2.VideoCapture(video_path)\n",
    "fps = vc.get(cv2.CAP_PROP_FPS)\n",
    "frame_count = int(vc.get(cv2.CAP_PROP_FRAME_COUNT))\n",
    "print(frame_count)\n",
    "video = []\n",
    "\n",
    "for idx in range(frame_count):\n",
    "    vc.set(1, idx)\n",
    "    ret, frame = vc.read()\n",
    "    height, width, layers = frame.shape\n",
    "    size = (width, height)\n",
    "    if frame is not None:\n",
    "        file_name = '{}{:08d}.jpg'.format(output_folder,idx)\n",
    "        cv2.imwrite(file_name, frame)\n",
    "\n",
    "    print(\"\\rprocess: {}/{}\".format(idx+1 , frame_count), end = '')\n",
    "vc.release()"
   ]
  },
  {
   "cell_type": "code",
   "execution_count": null,
   "id": "ba71748b",
   "metadata": {},
   "outputs": [],
   "source": [
    "import os\n",
    "import cv2\n",
    "import glob\n",
    "import shutil\n",
    "\n",
    "video_path = YOUR_VIDEO_PATH\n",
    "output_folder = YOUR_VIDEO_OUTPUT_PATH\n",
    "\n",
    "\n",
    "if os.path.isdir(output_folder):\n",
    "    print(\"Delete old result folder: {}\".format(output_folder))\n",
    "    shutil.rmtree(output_folder)\n",
    "os.makedirs(output_folder)\n",
    "print(\"Create folder: {}\".format(output_folder))\n",
    "\n",
    "vc = cv2.VideoCapture(video_path)\n",
    "fps = vc.get(cv2.CAP_PROP_FPS)\n",
    "frame_count = int(vc.get(cv2.CAP_PROP_FRAME_COUNT))\n",
    "print(frame_count)\n",
    "video = []\n",
    "\n",
    "for idx in range(frame_count):\n",
    "    vc.set(1, idx)\n",
    "    ret, frame = vc.read()\n",
    "    height, width, layers = frame.shape\n",
    "    size = (width, height)\n",
    "    if frame is not None:\n",
    "        file_name = '{}{:08d}.jpg'.format(output_folder,idx)\n",
    "        cv2.imwrite(file_name, frame)\n",
    "\n",
    "    print(\"\\rprocess: {}/{}\".format(idx+1 , frame_count), end = '')\n",
    "vc.release()"
   ]
  }
 ],
 "metadata": {
  "kernelspec": {
   "display_name": "Python 3 (ipykernel)",
   "language": "python",
   "name": "python3"
  },
  "language_info": {
   "codemirror_mode": {
    "name": "ipython",
    "version": 3
   },
   "file_extension": ".py",
   "mimetype": "text/x-python",
   "name": "python",
   "nbconvert_exporter": "python",
   "pygments_lexer": "ipython3",
   "version": "3.9.7"
  }
 },
 "nbformat": 4,
 "nbformat_minor": 5
}
