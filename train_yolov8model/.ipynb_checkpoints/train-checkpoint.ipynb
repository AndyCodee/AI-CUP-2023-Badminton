{
 "cells": [
  {
   "cell_type": "code",
   "execution_count": null,
   "id": "3f026e2c",
   "metadata": {},
   "outputs": [],
   "source": [
    "from ultralytics import YOLO\n",
    " \n",
    "# Load a model\n",
    "model = YOLO(\"yolov8m.pt\")  # load a pretrained model (recommended for training)"
   ]
  },
  {
   "cell_type": "code",
   "execution_count": null,
   "id": "26c7672e",
   "metadata": {},
   "outputs": [],
   "source": [
    "# Use the model\n",
    "results = model.train(data=\"dataset.yaml\", epochs=100, imgsz=640)  # train the model\n",
    "#訓練好後，會在runs/detect/train 產生confusion matrix 以及 訓練結果的權重。"
   ]
  },
  {
   "cell_type": "code",
   "execution_count": null,
   "id": "0e53d491",
   "metadata": {},
   "outputs": [],
   "source": [
    "model = YOLO(\"runs/detect/train/weights/best.pt\")#抓取訓練好的權重"
   ]
  },
  {
   "cell_type": "code",
   "execution_count": null,
   "id": "5cdf69b2",
   "metadata": {},
   "outputs": [],
   "source": [
    "model.predict(source= YOUR_VIDEO_PATH , save = True)"
   ]
  }
 ],
 "metadata": {
  "kernelspec": {
   "display_name": "Python 3 (ipykernel)",
   "language": "python",
   "name": "python3"
  },
  "language_info": {
   "codemirror_mode": {
    "name": "ipython",
    "version": 3
   },
   "file_extension": ".py",
   "mimetype": "text/x-python",
   "name": "python",
   "nbconvert_exporter": "python",
   "pygments_lexer": "ipython3",
   "version": "3.9.7"
  }
 },
 "nbformat": 4,
 "nbformat_minor": 5
}
